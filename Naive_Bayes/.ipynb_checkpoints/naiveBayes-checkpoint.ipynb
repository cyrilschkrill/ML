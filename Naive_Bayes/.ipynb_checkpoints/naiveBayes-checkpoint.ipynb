{
 "cells": [
  {
   "cell_type": "markdown",
   "id": "45c6b64d-74bf-4c34-9d41-c741b77e0d73",
   "metadata": {},
   "source": [
    "# Algorithme naif de Bayes (ou _Naive Bayes_)\n",
    "\n",
    "La Naive Bayes est un algorithme de classification supervisée basé sur le théorème de Bayes avec une hypothèse forte d'indépendance (d'où le terme naïf.)\n",
    "\n",
    "L'objectif est de donner une probabilité à chaque classe $y\\in\\mathcal{C}$ pour un point $x=(x_1,x_2,\\ldots,x_d)$, afin de choisir la plus probable.\n",
    "\n",
    "Nous souhaitons donc prédire: $\\quad\\hat{y}=\\arg\\max_{y\\in\\mathcal{C}}\\;P(y|\\,x)$\n",
    "\n",
    "Rappelons le théorème de Bayes $P(y|x)=\\dfrac{P(x|y)\\cdot{}P(y)}{P(x)}$\n",
    "\n",
    "La probabilité $P(x)$ étant la même pour toutes les classes, nous pouvons le négliger dans l'argument du maximum, qui se réécrit alors:\n",
    "\n",
    "$$\\hat{y} = \\arg\\max_{y\\in\\mathcal{C}}\\,P(x|y)\\cdot{}P(x)$$\n",
    "\n",
    "De plus, en supposant les variables $x_i$ indépendantes conditionnellement à la classe $y$, la probabilité $P(x|y)$ se réécrit comme produit des probabilités $P(x_i|y)$.\n",
    "\n",
    "Finalement le problème s'écrit par la prédiction:\n",
    "\n",
    "$$\\hat{y}=\\arg\\max_{y\\in\\mathcal{C}}\\;P(y)\\prod_{i=1}^d{}P(x_i|y)$$\n",
    "\n",
    "où $P(y)$ est la probilité a priori des classes. \n",
    "\n",
    "Ainsi, $P(y=c)=\\dfrac{\\text{nbre d'exemples de classe c}}{n}$.\n",
    "\n",
    "## Probabilités conditionnelles\n",
    "\n",
    "Selon le type de données, nous utiliserons différentes versions du modèle:\n",
    "\n",
    "| Type de variable $x_i$ | Modèle utilisé |\n",
    "|--------------|---------------------------|\n",
    "|Catégorielle | Multinominal ou Bernoulli  |\n",
    "|Numérique | Gaussien                      |\n"
   ]
  },
  {
   "cell_type": "code",
   "execution_count": null,
   "id": "5b633c2c-0fb2-4221-88fd-f009ec17fc1f",
   "metadata": {},
   "outputs": [],
   "source": []
  }
 ],
 "metadata": {
  "kernelspec": {
   "display_name": "Python 3 (ipykernel)",
   "language": "python",
   "name": "python3"
  },
  "language_info": {
   "codemirror_mode": {
    "name": "ipython",
    "version": 3
   },
   "file_extension": ".py",
   "mimetype": "text/x-python",
   "name": "python",
   "nbconvert_exporter": "python",
   "pygments_lexer": "ipython3",
   "version": "3.13.7"
  }
 },
 "nbformat": 4,
 "nbformat_minor": 5
}
