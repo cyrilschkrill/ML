{
 "cells": [
  {
   "cell_type": "markdown",
   "id": "cc5d8ba9-398e-4791-8372-799925029114",
   "metadata": {},
   "source": [
    "# XGBoost non-regularisé\n",
    "\n",
    "L'algorithme d'un XGBoost non-régularisé se formule ainsi:\n",
    "\n",
    "**Entrée:**\n",
    "- un jeu d'entrainement $\\{(x_i,y_i)\\}_{i=1}^N$\n",
    "- une fonction de perte diférentiable $L(y,F(x))$\n",
    "- un nombre $M$ d'apprenants faibles\n",
    "\n",
    "- un taux d'apprentissage $\\alpha$\n",
    "\n",
    "1. Initialisation\n",
    "\n",
    "Nous initialisons le modèle par une valeur constante: \n",
    "\n",
    "$$ \\hat{f}_{(0)}=\\arg\\min_{\\theta} \\sum_{i=1}^N L(y_i,\\theta) $$\n",
    "\n",
    "Même si dans les itérations futures l'optimisation se fait sur l'espace des fonctions. L'initialisation consiste à trouver la valeur constante pour toutes les entrées qui minimise la fonction de perte\n",
    "\n",
    "2. Itérations $m=1$ à $M$:\n",
    "\n",
    "    - Calcul des dérivées première et seconde (grandient, et hessien)\n",
    "\n",
    "      $$ \\hat{g}_m(x_i) = \\Big[ \\dfrac{\\partial{}L(y_i,f(x_i)}{\\partial{}f(x_i)} \\Big]_{f(x)=\\hat{f}_{(m-1)}(x)} $$\n",
    "\n",
    "      $$ \\hat{h}_m(x_i) = \\Big[ \\dfrac{\\partial^2{}L(y_i,f(x_i)}{\\partial{}f(x_i)^2} \\Big]_{f(x)=\\hat{f}_{(m-1)}(x)} $$\n",
    "\n",
    "    - Ajuster l'apprenant faible (arbre) en utilisant le jeu d'entrainement $\\Big\\{ x_i, \\dfrac{\\hat{g}_m(x_i)}{\\hat{h}_m(x_i)} \\Big\\}_{i=1}^N$ pour résoudre le problème d'optimisation suivant:\n",
    "     \n",
    "        $$ \\hat{\\phi}_m=\\arg\\min_{\\phi\\subset\\Phi}\\sum_{i=1}^N \\dfrac{1}{2}\\cdot\\hat{h}_m(x_i)\\Big[ \\phi(x_i) - \\dfrac{\\hat{g}_m(x_i)}{\\hat{h}_m(x_i)}\\Big]^2$$\n",
    "\n",
    "        Nous posons ensuite: $\\quad\\hat{f}_m=\\alpha\\cdot\\hat{\\phi}_m(x)$\n",
    "\n",
    "    - Mise à jour du modèle:\n",
    "\n",
    "        $$ \\hat{f}_{(m)}(x) = \\hat{f}_{(m-1)}(x) - \\hat{f}_m(x) $$\n",
    "\n",
    "3. Final\n",
    "\n",
    "Le modèle final s'écrit:\n",
    "\n",
    "$$ \\hat{f}(x) = \\hat{f}_{(M)}(x) = \\sum_{m=0}^M \\hat{f}_m(x) $$\n"
   ]
  },
  {
   "cell_type": "code",
   "execution_count": null,
   "id": "8c57b372-01ea-4d0d-9702-6e4db210a555",
   "metadata": {},
   "outputs": [],
   "source": []
  }
 ],
 "metadata": {
  "kernelspec": {
   "display_name": "Python 3 (ipykernel)",
   "language": "python",
   "name": "python3"
  },
  "language_info": {
   "codemirror_mode": {
    "name": "ipython",
    "version": 3
   },
   "file_extension": ".py",
   "mimetype": "text/x-python",
   "name": "python",
   "nbconvert_exporter": "python",
   "pygments_lexer": "ipython3",
   "version": "3.13.7"
  }
 },
 "nbformat": 4,
 "nbformat_minor": 5
}
