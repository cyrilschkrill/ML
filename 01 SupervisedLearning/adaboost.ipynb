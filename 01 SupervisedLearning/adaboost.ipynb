{
 "cells": [
  {
   "cell_type": "markdown",
   "id": "a0972eca-e3ea-4728-b888-a41a5f867589",
   "metadata": {},
   "source": [
    "# Discrete Adaboost\n",
    "\n",
    "Entrées:\n",
    "- un jeu d'entrainement $(x_i,y_i)\\in\\big(\\mathbb{R}^d\\times\\{-1,1\\}\\big)^{n}$\n",
    "- un jeu de poids initial $w_{1,1},\\ldots,w_{n,1}$\n",
    "- Une fonction d'erreur $E(f(x),y_i)=e^{-y_if(x_i)}$\n",
    "- Des apprenants faibles $h:x\\rightarrow\\{-1,1\\}$\n",
    "\n",
    "## L'algorithme Adaboost\n",
    "\n",
    "- Pour $t$ allant de $1$ à $T$:\n",
    "\n",
    "1. Trouver l'apprenant faible $h_t(x)$ qui minimise $\\epsilon_t$, la somme des erreurs pondérées des points mal classés $\\epsilon_t=\\sum_{i=1,\\,h_t(x_i)\\neq{}y_i} w_i,t$\n",
    "  \n",
    "2. Mise à jour de l'ensemble:\n",
    "\n",
    "$$F_t(x) = F_{t-1}(x) + \\alpha_t\\cdot{}h_t(x)$$\n",
    "où $\\alpha_t = \\dfrac{1}{2}\\cdot{}\\mathrm{ln} \\Big( \\dfrac{1-\\epsilon_t}{\\epsilon_t} \\Big)$\n",
    "\n",
    "3. Mise à joue des poids\n",
    "\n",
    "Pour tout $i$ allant de $1$ à $n$, le poids à l'itération suivante devient:\n",
    "\n",
    "$$ w_{i,t+1} = w_i\\cdot{}e^{-y_i\\alpha_i{}h_t(x_i)} $$\n",
    "\n",
    "Nous le renormalisons de sorte que la somme des poids pour une itération donnée vaille 1.\n",
    "\n",
    "---\n"
   ]
  },
  {
   "cell_type": "code",
   "execution_count": 4,
   "id": "e1f4914f-7cf8-44e6-840c-1f3ac7ce0cc3",
   "metadata": {},
   "outputs": [
    {
     "name": "stdout",
     "output_type": "stream",
     "text": [
      "Test Accuracy: 0.84\n"
     ]
    }
   ],
   "source": [
    "from sklearn.ensemble import AdaBoostClassifier\n",
    "from sklearn.tree import DecisionTreeClassifier\n",
    "from sklearn.datasets import make_classification\n",
    "from sklearn.model_selection import train_test_split\n",
    "from sklearn.metrics import accuracy_score\n",
    "\n",
    "# 1. Generate synthetic binary classification data\n",
    "X, y = make_classification(n_samples=1000, n_features=20, n_informative=15,\n",
    "                           n_redundant=5, random_state=42)\n",
    "\n",
    "# 2. Split into train and test sets\n",
    "X_train, X_test, y_train, y_test = train_test_split(X, y, test_size=0.3, random_state=42)\n",
    "\n",
    "# 3. Create a weak learner (decision stump)\n",
    "base_estimator = DecisionTreeClassifier(max_depth=1)\n",
    "\n",
    "# 4. Create AdaBoost classifier using the decision stump\n",
    "adaboost = AdaBoostClassifier(\n",
    "    estimator=base_estimator,\n",
    "    n_estimators=50,\n",
    "    learning_rate=1.0\n",
    "   # algorithm='SAMME'  # Discrete AdaBoost\n",
    ")\n",
    "\n",
    "# 5. Train the AdaBoost model\n",
    "adaboost.fit(X_train, y_train)\n",
    "\n",
    "# 6. Predict on test set\n",
    "y_pred = adaboost.predict(X_test)\n",
    "\n",
    "# 7. Evaluate\n",
    "accuracy = accuracy_score(y_test, y_pred)\n",
    "print(f\"Test Accuracy: {accuracy:.2f}\")\n"
   ]
  },
  {
   "cell_type": "code",
   "execution_count": null,
   "id": "0feb9f56-1738-456c-b6f3-44eb23000c12",
   "metadata": {},
   "outputs": [],
   "source": []
  }
 ],
 "metadata": {
  "kernelspec": {
   "display_name": "Python 3 (ipykernel)",
   "language": "python",
   "name": "python3"
  },
  "language_info": {
   "codemirror_mode": {
    "name": "ipython",
    "version": 3
   },
   "file_extension": ".py",
   "mimetype": "text/x-python",
   "name": "python",
   "nbconvert_exporter": "python",
   "pygments_lexer": "ipython3",
   "version": "3.13.7"
  }
 },
 "nbformat": 4,
 "nbformat_minor": 5
}
