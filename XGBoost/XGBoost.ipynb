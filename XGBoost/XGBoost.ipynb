{
 "cells": [
  {
   "cell_type": "markdown",
   "id": "357f3cd5-2ecd-4126-8ae3-cf019f215ce4",
   "metadata": {},
   "source": [
    "La XGBoost (eXtreme Gradient Boosting) est une amélioration du Gradient Boosting classique (comme GBM), avec des optimisations mathématiques, algorithmiques et computationales.\n",
    "\n",
    "Tout comme GBM, l'algorithme du XGBoost vise à miniser une fonction de perte, mais avec une régularisation:\n",
    "\n",
    "$$ \\mathcal{L}^{(t)} $$\n",
    "\n",
    "\n"
   ]
  },
  {
   "cell_type": "code",
   "execution_count": null,
   "id": "64ef42fc-b65b-4d7f-9120-91247fea1ca2",
   "metadata": {},
   "outputs": [],
   "source": []
  }
 ],
 "metadata": {
  "kernelspec": {
   "display_name": "Python 3 (ipykernel)",
   "language": "python",
   "name": "python3"
  },
  "language_info": {
   "codemirror_mode": {
    "name": "ipython",
    "version": 3
   },
   "file_extension": ".py",
   "mimetype": "text/x-python",
   "name": "python",
   "nbconvert_exporter": "python",
   "pygments_lexer": "ipython3",
   "version": "3.13.7"
  }
 },
 "nbformat": 4,
 "nbformat_minor": 5
}
